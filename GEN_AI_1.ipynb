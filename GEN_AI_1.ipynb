{
  "nbformat": 4,
  "nbformat_minor": 0,
  "metadata": {
    "colab": {
      "provenance": []
    },
    "kernelspec": {
      "name": "python3",
      "display_name": "Python 3"
    },
    "language_info": {
      "name": "python"
    }
  },
  "cells": [
    {
      "cell_type": "code",
      "execution_count": null,
      "metadata": {
        "colab": {
          "base_uri": "https://localhost:8080/"
        },
        "id": "ywaji0s1beLu",
        "outputId": "dd5bab53-3a27-4a02-9cb7-3fd9eb2b9d3a"
      },
      "outputs": [
        {
          "output_type": "stream",
          "name": "stdout",
          "text": [
            "Text Corpus:\n",
            " \n",
            "Once upon a time in a land far, far away, there lived a wise old owl. \n",
            "The owl had seen many things throughout the years. It was wise beyond measure.\n",
            "\n"
          ]
        }
      ],
      "source": [
        "text = \"\"\"\n",
        "Once upon a time in a land far, far away, there lived a wise old owl.\n",
        "The owl had seen many things throughout the years. It was wise beyond measure.\n",
        "\"\"\"\n",
        "\n",
        "print(\"Text Corpus:\\n\", text)\n"
      ]
    },
    {
      "cell_type": "code",
      "source": [
        "import random\n",
        "\n",
        "def build_markov_chain(text, n=2):\n",
        "    markov_chain = {}\n",
        "    words = text.split()\n",
        "\n",
        "    for i in range(len(words) - n + 1):\n",
        "        key = tuple(words[i:i + n - 1])\n",
        "        value = words[i + n - 1]\n",
        "        if key not in markov_chain:\n",
        "            markov_chain[key] = []\n",
        "        markov_chain[key].append(value)\n",
        "\n",
        "    return markov_chain\n",
        "\n",
        "markov_chain = build_markov_chain(text, n=2)\n",
        "\n",
        "print(\"\\nMarkov Chain Model:\")\n",
        "for key, value in markov_chain.items():\n",
        "    print(f\"{key}: {value}\")\n"
      ],
      "metadata": {
        "colab": {
          "base_uri": "https://localhost:8080/"
        },
        "id": "XSEWq1Mibxtl",
        "outputId": "0c2a5f48-cb97-4956-8e49-cb08bdbf79f8"
      },
      "execution_count": null,
      "outputs": [
        {
          "output_type": "stream",
          "name": "stdout",
          "text": [
            "\n",
            "Markov Chain Model:\n",
            "('Once',): ['upon']\n",
            "('upon',): ['a']\n",
            "('a',): ['time', 'land', 'wise']\n",
            "('time',): ['in']\n",
            "('in',): ['a']\n",
            "('land',): ['far,']\n",
            "('far,',): ['far']\n",
            "('far',): ['away,']\n",
            "('away,',): ['there']\n",
            "('there',): ['lived']\n",
            "('lived',): ['a']\n",
            "('wise',): ['old', 'beyond']\n",
            "('old',): ['owl.']\n",
            "('owl.',): ['The']\n",
            "('The',): ['owl']\n",
            "('owl',): ['had']\n",
            "('had',): ['seen']\n",
            "('seen',): ['many']\n",
            "('many',): ['things']\n",
            "('things',): ['throughout']\n",
            "('throughout',): ['the']\n",
            "('the',): ['years.']\n",
            "('years.',): ['It']\n",
            "('It',): ['was']\n",
            "('was',): ['wise']\n",
            "('beyond',): ['measure.']\n"
          ]
        }
      ]
    },
    {
      "cell_type": "code",
      "source": [
        "import random\n",
        "\n",
        "def generate_text(markov_chain, length=50, n=2):\n",
        "\n",
        "    current_key = random.choice(list(markov_chain.keys()))\n",
        "    generated_words = list(current_key)\n",
        "\n",
        "    for _ in range(length - n + 1):\n",
        "        if current_key not in markov_chain:\n",
        "            current_key = random.choice(list(markov_chain.keys()))\n",
        "\n",
        "        next_word = random.choice(markov_chain[current_key])\n",
        "        generated_words.append(next_word)\n",
        "        current_key = tuple(generated_words[-(n - 1):])\n",
        "\n",
        "    return ' '.join(generated_words)\n",
        "\n",
        "generated_text = generate_text(markov_chain, length=30, n=2)\n",
        "\n",
        "print(\"\\nGenerated Text:\\n\", generated_text)\n"
      ],
      "metadata": {
        "colab": {
          "base_uri": "https://localhost:8080/"
        },
        "id": "J9yiYu5Ab43c",
        "outputId": "8bc160da-8596-4953-b5a7-859dc0ff7d8e"
      },
      "execution_count": null,
      "outputs": [
        {
          "output_type": "stream",
          "name": "stdout",
          "text": [
            "\n",
            "Generated Text:\n",
            " was wise old owl. The owl had seen many things throughout the years. It was wise old owl. The owl had seen many things throughout the years. It was wise\n"
          ]
        }
      ]
    }
  ]
}